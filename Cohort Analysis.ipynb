{
 "cells": [
  {
   "cell_type": "markdown",
   "metadata": {},
   "source": [
    "\n",
    "# Customer Analysis \n",
    "This study aims to:\n",
    "- understand customer purchase behaviours\n",
    "- Customer acquisition Rate\n",
    "- Customer retention Rate \n",
    "\n",
    "**Driving to Data driven Marketing.**"
   ]
  },
  {
   "cell_type": "markdown",
   "metadata": {},
   "source": [
    "Load the neccessary packages."
   ]
  },
  {
   "cell_type": "code",
   "execution_count": 1,
   "metadata": {},
   "outputs": [],
   "source": [
    "import numpy as np\n",
    "import pandas as pd\n",
    "import datetime as dt\n",
    "import seaborn as sns\n",
    "import matplotlib.pyplot as plt"
   ]
  },
  {
   "cell_type": "markdown",
   "metadata": {},
   "source": [
    "Change the WD and load the data"
   ]
  },
  {
   "cell_type": "code",
   "execution_count": 2,
   "metadata": {},
   "outputs": [
    {
     "name": "stdout",
     "output_type": "stream",
     "text": [
      "C:\\Users\\DMuturi\\Desktop\\Py Projects\n"
     ]
    }
   ],
   "source": [
    "cd C:\\Users\\DMuturi\\Desktop\\Py Projects"
   ]
  },
  {
   "cell_type": "code",
   "execution_count": 18,
   "metadata": {
    "scrolled": true
   },
   "outputs": [
    {
     "data": {
      "text/html": [
       "<div>\n",
       "<style scoped>\n",
       "    .dataframe tbody tr th:only-of-type {\n",
       "        vertical-align: middle;\n",
       "    }\n",
       "\n",
       "    .dataframe tbody tr th {\n",
       "        vertical-align: top;\n",
       "    }\n",
       "\n",
       "    .dataframe thead th {\n",
       "        text-align: right;\n",
       "    }\n",
       "</style>\n",
       "<table border=\"1\" class=\"dataframe\">\n",
       "  <thead>\n",
       "    <tr style=\"text-align: right;\">\n",
       "      <th></th>\n",
       "      <th>Territory</th>\n",
       "      <th>Route</th>\n",
       "      <th>CustomerName</th>\n",
       "      <th>Date</th>\n",
       "      <th>Quantity</th>\n",
       "    </tr>\n",
       "  </thead>\n",
       "  <tbody>\n",
       "    <tr>\n",
       "      <th>0</th>\n",
       "      <td>Nairobi North</td>\n",
       "      <td>KABATI</td>\n",
       "      <td>OPEN DOOR</td>\n",
       "      <td>2019-06-24</td>\n",
       "      <td>4</td>\n",
       "    </tr>\n",
       "    <tr>\n",
       "      <th>1</th>\n",
       "      <td>Nairobi South</td>\n",
       "      <td>MLOLONGO</td>\n",
       "      <td>MLOLONGO GAS EXPERTS</td>\n",
       "      <td>2019-06-24</td>\n",
       "      <td>2</td>\n",
       "    </tr>\n",
       "    <tr>\n",
       "      <th>2</th>\n",
       "      <td>Mt. Kenya</td>\n",
       "      <td>EMBU</td>\n",
       "      <td>MAMA NJERI SLOPES MAJENGO</td>\n",
       "      <td>2019-06-24</td>\n",
       "      <td>2</td>\n",
       "    </tr>\n",
       "    <tr>\n",
       "      <th>3</th>\n",
       "      <td>Nairobi South</td>\n",
       "      <td>MLOLONGO</td>\n",
       "      <td>POULINE</td>\n",
       "      <td>2019-06-24</td>\n",
       "      <td>11</td>\n",
       "    </tr>\n",
       "    <tr>\n",
       "      <th>4</th>\n",
       "      <td>Nairobi South</td>\n",
       "      <td>RONGAI 1</td>\n",
       "      <td>EXTRA GAS</td>\n",
       "      <td>2019-06-24</td>\n",
       "      <td>2</td>\n",
       "    </tr>\n",
       "  </tbody>\n",
       "</table>\n",
       "</div>"
      ],
      "text/plain": [
       "       Territory                           Route               CustomerName  \\\n",
       "0  Nairobi North  KABATI                                          OPEN DOOR   \n",
       "1  Nairobi South  MLOLONGO                             MLOLONGO GAS EXPERTS   \n",
       "2      Mt. Kenya  EMBU                            MAMA NJERI SLOPES MAJENGO   \n",
       "3  Nairobi South  MLOLONGO                                          POULINE   \n",
       "4  Nairobi South  RONGAI 1                                        EXTRA GAS   \n",
       "\n",
       "        Date  Quantity  \n",
       "0 2019-06-24         4  \n",
       "1 2019-06-24         2  \n",
       "2 2019-06-24         2  \n",
       "3 2019-06-24        11  \n",
       "4 2019-06-24         2  "
      ]
     },
     "execution_count": 18,
     "metadata": {},
     "output_type": "execute_result"
    }
   ],
   "source": [
    "df= pd.read_excel('customers.xlsx')\n",
    "df.head(5)"
   ]
  },
  {
   "cell_type": "markdown",
   "metadata": {},
   "source": [
    "The data represents all customers daily cylinders purchases from $1^{st} Jan 2019$ to $24^{th} June 2019$"
   ]
  },
  {
   "cell_type": "code",
   "execution_count": 19,
   "metadata": {},
   "outputs": [
    {
     "data": {
      "text/plain": [
       "(158350, 5)"
      ]
     },
     "execution_count": 19,
     "metadata": {},
     "output_type": "execute_result"
    }
   ],
   "source": [
    "## View the data size\n",
    "df.shape"
   ]
  },
  {
   "cell_type": "code",
   "execution_count": 20,
   "metadata": {},
   "outputs": [
    {
     "data": {
      "text/plain": [
       "8914"
      ]
     },
     "execution_count": 20,
     "metadata": {},
     "output_type": "execute_result"
    }
   ],
   "source": [
    "#Counting the unique customers that we have served \n",
    "df.CustomerName.nunique()"
   ]
  },
  {
   "cell_type": "markdown",
   "metadata": {},
   "source": [
    "This data has $158350$ rows and $5$ features.  \n",
    "\n",
    "We have been able to serve $8914$ total customers out of  $12351$  mapped customers which represents $72\\%$.\n",
    "\n",
    "We have $3437$ = $28\\% $ of mapped customers that we have not been able to reach this year. \n",
    "\n",
    "WHY?"
   ]
  },
  {
   "cell_type": "code",
   "execution_count": 11,
   "metadata": {},
   "outputs": [
    {
     "data": {
      "text/plain": [
       "Territory       0\n",
       "Route           0\n",
       "CustomerName    0\n",
       "Date            0\n",
       "Quantity        0\n",
       "dtype: int64"
      ]
     },
     "execution_count": 11,
     "metadata": {},
     "output_type": "execute_result"
    }
   ],
   "source": [
    "df.isna().sum()"
   ]
  },
  {
   "cell_type": "markdown",
   "metadata": {},
   "source": [
    "## Cohort Analysis\n",
    "*Cohort analysis is a subset of behavioral analytics that takes the data from a given data set and rather than looking at all users as one unit, it breaks them into related groups for analysis. These related groups, or cohorts, usually share common characteristics or experiences within a defined time-span.*\n"
   ]
  },
  {
   "cell_type": "markdown",
   "metadata": {},
   "source": [
    "We break our data to different cohorts. New customers in each moth shall represent distinct cohorts.\n",
    "\n",
    "Add two columns on the data:\n",
    " - The month for each purchase. **(PurchaseMonth)**\n",
    " - The month when the customer first bought from us. **(CohortGroup)**"
   ]
  },
  {
   "cell_type": "code",
   "execution_count": 21,
   "metadata": {
    "scrolled": true
   },
   "outputs": [
    {
     "data": {
      "text/html": [
       "<div>\n",
       "<style scoped>\n",
       "    .dataframe tbody tr th:only-of-type {\n",
       "        vertical-align: middle;\n",
       "    }\n",
       "\n",
       "    .dataframe tbody tr th {\n",
       "        vertical-align: top;\n",
       "    }\n",
       "\n",
       "    .dataframe thead th {\n",
       "        text-align: right;\n",
       "    }\n",
       "</style>\n",
       "<table border=\"1\" class=\"dataframe\">\n",
       "  <thead>\n",
       "    <tr style=\"text-align: right;\">\n",
       "      <th></th>\n",
       "      <th>Territory</th>\n",
       "      <th>Route</th>\n",
       "      <th>CustomerName</th>\n",
       "      <th>Date</th>\n",
       "      <th>Quantity</th>\n",
       "      <th>PurchaseMonth</th>\n",
       "    </tr>\n",
       "  </thead>\n",
       "  <tbody>\n",
       "    <tr>\n",
       "      <th>0</th>\n",
       "      <td>Nairobi North</td>\n",
       "      <td>KABATI</td>\n",
       "      <td>OPEN DOOR</td>\n",
       "      <td>2019-06-24</td>\n",
       "      <td>4</td>\n",
       "      <td>2019-06</td>\n",
       "    </tr>\n",
       "    <tr>\n",
       "      <th>1</th>\n",
       "      <td>Nairobi South</td>\n",
       "      <td>MLOLONGO</td>\n",
       "      <td>MLOLONGO GAS EXPERTS</td>\n",
       "      <td>2019-06-24</td>\n",
       "      <td>2</td>\n",
       "      <td>2019-06</td>\n",
       "    </tr>\n",
       "    <tr>\n",
       "      <th>2</th>\n",
       "      <td>Mt. Kenya</td>\n",
       "      <td>EMBU</td>\n",
       "      <td>MAMA NJERI SLOPES MAJENGO</td>\n",
       "      <td>2019-06-24</td>\n",
       "      <td>2</td>\n",
       "      <td>2019-06</td>\n",
       "    </tr>\n",
       "    <tr>\n",
       "      <th>3</th>\n",
       "      <td>Nairobi South</td>\n",
       "      <td>MLOLONGO</td>\n",
       "      <td>POULINE</td>\n",
       "      <td>2019-06-24</td>\n",
       "      <td>11</td>\n",
       "      <td>2019-06</td>\n",
       "    </tr>\n",
       "    <tr>\n",
       "      <th>4</th>\n",
       "      <td>Nairobi South</td>\n",
       "      <td>RONGAI 1</td>\n",
       "      <td>EXTRA GAS</td>\n",
       "      <td>2019-06-24</td>\n",
       "      <td>2</td>\n",
       "      <td>2019-06</td>\n",
       "    </tr>\n",
       "  </tbody>\n",
       "</table>\n",
       "</div>"
      ],
      "text/plain": [
       "       Territory                           Route               CustomerName  \\\n",
       "0  Nairobi North  KABATI                                          OPEN DOOR   \n",
       "1  Nairobi South  MLOLONGO                             MLOLONGO GAS EXPERTS   \n",
       "2      Mt. Kenya  EMBU                            MAMA NJERI SLOPES MAJENGO   \n",
       "3  Nairobi South  MLOLONGO                                          POULINE   \n",
       "4  Nairobi South  RONGAI 1                                        EXTRA GAS   \n",
       "\n",
       "        Date  Quantity PurchaseMonth  \n",
       "0 2019-06-24         4       2019-06  \n",
       "1 2019-06-24         2       2019-06  \n",
       "2 2019-06-24         2       2019-06  \n",
       "3 2019-06-24        11       2019-06  \n",
       "4 2019-06-24         2       2019-06  "
      ]
     },
     "execution_count": 21,
     "metadata": {},
     "output_type": "execute_result"
    }
   ],
   "source": [
    "### Creating a new dataset df1\n",
    "df1=df\n",
    "df1['PurchaseMonth'] = df.Date.apply(lambda x: x.strftime('%Y-%m')) ##Adding a purchase month column\n",
    "df1.head()"
   ]
  },
  {
   "cell_type": "markdown",
   "metadata": {},
   "source": [
    "Adding the Cohort Group colunm."
   ]
  },
  {
   "cell_type": "code",
   "execution_count": 22,
   "metadata": {},
   "outputs": [
    {
     "data": {
      "text/html": [
       "<div>\n",
       "<style scoped>\n",
       "    .dataframe tbody tr th:only-of-type {\n",
       "        vertical-align: middle;\n",
       "    }\n",
       "\n",
       "    .dataframe tbody tr th {\n",
       "        vertical-align: top;\n",
       "    }\n",
       "\n",
       "    .dataframe thead th {\n",
       "        text-align: right;\n",
       "    }\n",
       "</style>\n",
       "<table border=\"1\" class=\"dataframe\">\n",
       "  <thead>\n",
       "    <tr style=\"text-align: right;\">\n",
       "      <th></th>\n",
       "      <th>CustomerName</th>\n",
       "      <th>Territory</th>\n",
       "      <th>Route</th>\n",
       "      <th>Date</th>\n",
       "      <th>Quantity</th>\n",
       "      <th>PurchaseMonth</th>\n",
       "      <th>CohortGroup</th>\n",
       "    </tr>\n",
       "  </thead>\n",
       "  <tbody>\n",
       "    <tr>\n",
       "      <th>0</th>\n",
       "      <td>OPEN DOOR</td>\n",
       "      <td>Nairobi North</td>\n",
       "      <td>KABATI</td>\n",
       "      <td>2019-06-24</td>\n",
       "      <td>4</td>\n",
       "      <td>2019-06</td>\n",
       "      <td>2019-01</td>\n",
       "    </tr>\n",
       "    <tr>\n",
       "      <th>1</th>\n",
       "      <td>MLOLONGO GAS EXPERTS</td>\n",
       "      <td>Nairobi South</td>\n",
       "      <td>MLOLONGO</td>\n",
       "      <td>2019-06-24</td>\n",
       "      <td>2</td>\n",
       "      <td>2019-06</td>\n",
       "      <td>2019-02</td>\n",
       "    </tr>\n",
       "    <tr>\n",
       "      <th>2</th>\n",
       "      <td>MAMA NJERI SLOPES MAJENGO</td>\n",
       "      <td>Mt. Kenya</td>\n",
       "      <td>EMBU</td>\n",
       "      <td>2019-06-24</td>\n",
       "      <td>2</td>\n",
       "      <td>2019-06</td>\n",
       "      <td>2019-01</td>\n",
       "    </tr>\n",
       "    <tr>\n",
       "      <th>3</th>\n",
       "      <td>POULINE</td>\n",
       "      <td>Nairobi South</td>\n",
       "      <td>MLOLONGO</td>\n",
       "      <td>2019-06-24</td>\n",
       "      <td>11</td>\n",
       "      <td>2019-06</td>\n",
       "      <td>2019-02</td>\n",
       "    </tr>\n",
       "    <tr>\n",
       "      <th>4</th>\n",
       "      <td>EXTRA GAS</td>\n",
       "      <td>Nairobi South</td>\n",
       "      <td>RONGAI 1</td>\n",
       "      <td>2019-06-24</td>\n",
       "      <td>2</td>\n",
       "      <td>2019-06</td>\n",
       "      <td>2019-02</td>\n",
       "    </tr>\n",
       "  </tbody>\n",
       "</table>\n",
       "</div>"
      ],
      "text/plain": [
       "                CustomerName      Territory                           Route  \\\n",
       "0                  OPEN DOOR  Nairobi North  KABATI                           \n",
       "1       MLOLONGO GAS EXPERTS  Nairobi South  MLOLONGO                         \n",
       "2  MAMA NJERI SLOPES MAJENGO      Mt. Kenya  EMBU                             \n",
       "3                    POULINE  Nairobi South  MLOLONGO                         \n",
       "4                  EXTRA GAS  Nairobi South  RONGAI 1                         \n",
       "\n",
       "        Date  Quantity PurchaseMonth CohortGroup  \n",
       "0 2019-06-24         4       2019-06     2019-01  \n",
       "1 2019-06-24         2       2019-06     2019-02  \n",
       "2 2019-06-24         2       2019-06     2019-01  \n",
       "3 2019-06-24        11       2019-06     2019-02  \n",
       "4 2019-06-24         2       2019-06     2019-02  "
      ]
     },
     "execution_count": 22,
     "metadata": {},
     "output_type": "execute_result"
    }
   ],
   "source": [
    "df1.set_index('CustomerName', inplace=True)\n",
    "\n",
    "df1['CohortGroup'] = df1.groupby(level=0)['Date'].min().apply(lambda x: x.strftime('%Y-%m'))\n",
    "df1.reset_index(inplace=True)\n",
    "df1.head()"
   ]
  },
  {
   "cell_type": "markdown",
   "metadata": {},
   "source": [
    "The **CohortGroups** represents the the month for the first purchase. eg, cohort group $2019-01\n",
    "$ represents all the customers that made their first purchase on January."
   ]
  },
  {
   "cell_type": "code",
   "execution_count": 23,
   "metadata": {},
   "outputs": [],
   "source": [
    "grouped= df1.groupby(['CohortGroup','PurchaseMonth'])"
   ]
  },
  {
   "cell_type": "markdown",
   "metadata": {},
   "source": [
    "## Count unique customers and total cylinders in each group"
   ]
  },
  {
   "cell_type": "code",
   "execution_count": 24,
   "metadata": {},
   "outputs": [
    {
     "data": {
      "text/html": [
       "<div>\n",
       "<style scoped>\n",
       "    .dataframe tbody tr th:only-of-type {\n",
       "        vertical-align: middle;\n",
       "    }\n",
       "\n",
       "    .dataframe tbody tr th {\n",
       "        vertical-align: top;\n",
       "    }\n",
       "\n",
       "    .dataframe thead th {\n",
       "        text-align: right;\n",
       "    }\n",
       "</style>\n",
       "<table border=\"1\" class=\"dataframe\">\n",
       "  <thead>\n",
       "    <tr style=\"text-align: right;\">\n",
       "      <th></th>\n",
       "      <th></th>\n",
       "      <th>TotalCustomers</th>\n",
       "      <th>TotalSales</th>\n",
       "    </tr>\n",
       "    <tr>\n",
       "      <th>CohortGroup</th>\n",
       "      <th>PurchaseMonth</th>\n",
       "      <th></th>\n",
       "      <th></th>\n",
       "    </tr>\n",
       "  </thead>\n",
       "  <tbody>\n",
       "    <tr>\n",
       "      <th rowspan=\"6\" valign=\"top\">2019-01</th>\n",
       "      <th>2019-01</th>\n",
       "      <td>4579</td>\n",
       "      <td>239798</td>\n",
       "    </tr>\n",
       "    <tr>\n",
       "      <th>2019-02</th>\n",
       "      <td>3197</td>\n",
       "      <td>184485</td>\n",
       "    </tr>\n",
       "    <tr>\n",
       "      <th>2019-03</th>\n",
       "      <td>2919</td>\n",
       "      <td>161726</td>\n",
       "    </tr>\n",
       "    <tr>\n",
       "      <th>2019-04</th>\n",
       "      <td>2989</td>\n",
       "      <td>173131</td>\n",
       "    </tr>\n",
       "    <tr>\n",
       "      <th>2019-05</th>\n",
       "      <td>3449</td>\n",
       "      <td>204565</td>\n",
       "    </tr>\n",
       "    <tr>\n",
       "      <th>2019-06</th>\n",
       "      <td>3295</td>\n",
       "      <td>147827</td>\n",
       "    </tr>\n",
       "    <tr>\n",
       "      <th rowspan=\"4\" valign=\"top\">2019-02</th>\n",
       "      <th>2019-02</th>\n",
       "      <td>977</td>\n",
       "      <td>14640</td>\n",
       "    </tr>\n",
       "    <tr>\n",
       "      <th>2019-03</th>\n",
       "      <td>545</td>\n",
       "      <td>13112</td>\n",
       "    </tr>\n",
       "    <tr>\n",
       "      <th>2019-04</th>\n",
       "      <td>551</td>\n",
       "      <td>16154</td>\n",
       "    </tr>\n",
       "    <tr>\n",
       "      <th>2019-05</th>\n",
       "      <td>654</td>\n",
       "      <td>20088</td>\n",
       "    </tr>\n",
       "  </tbody>\n",
       "</table>\n",
       "</div>"
      ],
      "text/plain": [
       "                           TotalCustomers  TotalSales\n",
       "CohortGroup PurchaseMonth                            \n",
       "2019-01     2019-01                  4579      239798\n",
       "            2019-02                  3197      184485\n",
       "            2019-03                  2919      161726\n",
       "            2019-04                  2989      173131\n",
       "            2019-05                  3449      204565\n",
       "            2019-06                  3295      147827\n",
       "2019-02     2019-02                   977       14640\n",
       "            2019-03                   545       13112\n",
       "            2019-04                   551       16154\n",
       "            2019-05                   654       20088"
      ]
     },
     "execution_count": 24,
     "metadata": {},
     "output_type": "execute_result"
    }
   ],
   "source": [
    "cohorts=grouped.agg({\"CustomerName\":pd.Series.nunique,\n",
    "                    \"Quantity\":np.sum})\n",
    "cohorts.rename(columns={\"CustomerName\":\"TotalCustomers\",\n",
    "                        \"Quantity\":\"TotalSales\"}, inplace= True)\n",
    "cohorts.head(10)"
   ]
  },
  {
   "cell_type": "markdown",
   "metadata": {},
   "source": [
    "#### Label the CohortPeriod for each CohortGroup\n",
    "We want to look at how each cohort has behaved in the months following their first purchase, so we'll need to index each cohort to their first purchase month. For example, CohortPeriod = 1 will be the cohort's first month, CohortPeriod = 2 is their second, and so on.\n",
    "\n",
    "The index ranges from $1$ to $6$ since we have six months"
   ]
  },
  {
   "cell_type": "code",
   "execution_count": 25,
   "metadata": {},
   "outputs": [],
   "source": [
    "def cohort_period(df1):\n",
    "    \"\"\"\n",
    "    Creates a `CohortPeriod` column, which is the Nth period based on the user's first purchase.\n",
    "    \n",
    "    Example\n",
    "    -------\n",
    "    Say you want to get the 3rd month for every user:\n",
    "        df.sort(['UserId', 'OrderTime', inplace=True)\n",
    "        df = df.groupby('UserId').apply(cohort_period)\n",
    "        df[df.CohortPeriod == 3]\n",
    "    \"\"\"\n",
    "    df1['CohortPeriod'] = np.arange(len(df1)) + 1\n",
    "    return df1\n"
   ]
  },
  {
   "cell_type": "code",
   "execution_count": 26,
   "metadata": {},
   "outputs": [
    {
     "data": {
      "text/html": [
       "<div>\n",
       "<style scoped>\n",
       "    .dataframe tbody tr th:only-of-type {\n",
       "        vertical-align: middle;\n",
       "    }\n",
       "\n",
       "    .dataframe tbody tr th {\n",
       "        vertical-align: top;\n",
       "    }\n",
       "\n",
       "    .dataframe thead th {\n",
       "        text-align: right;\n",
       "    }\n",
       "</style>\n",
       "<table border=\"1\" class=\"dataframe\">\n",
       "  <thead>\n",
       "    <tr style=\"text-align: right;\">\n",
       "      <th></th>\n",
       "      <th></th>\n",
       "      <th>TotalCustomers</th>\n",
       "      <th>TotalSales</th>\n",
       "      <th>CohortPeriod</th>\n",
       "    </tr>\n",
       "    <tr>\n",
       "      <th>CohortGroup</th>\n",
       "      <th>PurchaseMonth</th>\n",
       "      <th></th>\n",
       "      <th></th>\n",
       "      <th></th>\n",
       "    </tr>\n",
       "  </thead>\n",
       "  <tbody>\n",
       "    <tr>\n",
       "      <th rowspan=\"5\" valign=\"top\">2019-01</th>\n",
       "      <th>2019-01</th>\n",
       "      <td>4579</td>\n",
       "      <td>239798</td>\n",
       "      <td>1</td>\n",
       "    </tr>\n",
       "    <tr>\n",
       "      <th>2019-02</th>\n",
       "      <td>3197</td>\n",
       "      <td>184485</td>\n",
       "      <td>2</td>\n",
       "    </tr>\n",
       "    <tr>\n",
       "      <th>2019-03</th>\n",
       "      <td>2919</td>\n",
       "      <td>161726</td>\n",
       "      <td>3</td>\n",
       "    </tr>\n",
       "    <tr>\n",
       "      <th>2019-04</th>\n",
       "      <td>2989</td>\n",
       "      <td>173131</td>\n",
       "      <td>4</td>\n",
       "    </tr>\n",
       "    <tr>\n",
       "      <th>2019-05</th>\n",
       "      <td>3449</td>\n",
       "      <td>204565</td>\n",
       "      <td>5</td>\n",
       "    </tr>\n",
       "  </tbody>\n",
       "</table>\n",
       "</div>"
      ],
      "text/plain": [
       "                           TotalCustomers  TotalSales  CohortPeriod\n",
       "CohortGroup PurchaseMonth                                          \n",
       "2019-01     2019-01                  4579      239798             1\n",
       "            2019-02                  3197      184485             2\n",
       "            2019-03                  2919      161726             3\n",
       "            2019-04                  2989      173131             4\n",
       "            2019-05                  3449      204565             5"
      ]
     },
     "execution_count": 26,
     "metadata": {},
     "output_type": "execute_result"
    }
   ],
   "source": [
    "cohorts = cohorts.groupby(level=0).apply(cohort_period)\n",
    "cohorts.head()"
   ]
  },
  {
   "cell_type": "markdown",
   "metadata": {},
   "source": [
    "### Customer retention by cohort group\n",
    "\n",
    "We want to see how customers have been changing in each cohort. How have we been retaining or losing the customers?"
   ]
  },
  {
   "cell_type": "code",
   "execution_count": 23,
   "metadata": {},
   "outputs": [],
   "source": [
    "# reindex the DataFrame\n",
    "cohorts.reset_index(inplace=True)\n",
    "cohorts.set_index(['CohortGroup', 'CohortPeriod'], inplace=True)"
   ]
  },
  {
   "cell_type": "code",
   "execution_count": 24,
   "metadata": {
    "scrolled": true
   },
   "outputs": [
    {
     "data": {
      "text/plain": [
       "CohortGroup\n",
       "2019-01    4579\n",
       "2019-02     977\n",
       "2019-03     590\n",
       "2019-04     902\n",
       "2019-05    1331\n",
       "Name: TotalCustomers, dtype: int64"
      ]
     },
     "execution_count": 24,
     "metadata": {},
     "output_type": "execute_result"
    }
   ],
   "source": [
    "# create a Series holding the total size of each CohortGroup\n",
    "cohort_group_size = cohorts['TotalCustomers'].groupby(level=0).first()\n",
    "cohort_group_size.head()"
   ]
  },
  {
   "cell_type": "markdown",
   "metadata": {},
   "source": [
    "This represents the cohort size, the number of new unique customer who puchased on made their first purchase on the given month. \n",
    "\n",
    "This could be interprated as the number of new customers we have been earning per month."
   ]
  },
  {
   "cell_type": "code",
   "execution_count": 25,
   "metadata": {},
   "outputs": [
    {
     "data": {
      "text/plain": [
       "CohortGroup  CohortPeriod\n",
       "2019-01      1               4579\n",
       "             2               3197\n",
       "             3               2919\n",
       "             4               2989\n",
       "             5               3449\n",
       "Name: TotalCustomers, dtype: int64"
      ]
     },
     "execution_count": 25,
     "metadata": {},
     "output_type": "execute_result"
    }
   ],
   "source": [
    "cohorts['TotalCustomers'].head()"
   ]
  },
  {
   "cell_type": "code",
   "execution_count": 31,
   "metadata": {},
   "outputs": [
    {
     "data": {
      "text/html": [
       "<div>\n",
       "<style scoped>\n",
       "    .dataframe tbody tr th:only-of-type {\n",
       "        vertical-align: middle;\n",
       "    }\n",
       "\n",
       "    .dataframe tbody tr th {\n",
       "        vertical-align: top;\n",
       "    }\n",
       "\n",
       "    .dataframe thead th {\n",
       "        text-align: right;\n",
       "    }\n",
       "</style>\n",
       "<table border=\"1\" class=\"dataframe\">\n",
       "  <thead>\n",
       "    <tr style=\"text-align: right;\">\n",
       "      <th>CohortGroup</th>\n",
       "      <th>2019-01</th>\n",
       "      <th>2019-02</th>\n",
       "      <th>2019-03</th>\n",
       "      <th>2019-04</th>\n",
       "      <th>2019-05</th>\n",
       "      <th>2019-06</th>\n",
       "    </tr>\n",
       "    <tr>\n",
       "      <th>CohortPeriod</th>\n",
       "      <th></th>\n",
       "      <th></th>\n",
       "      <th></th>\n",
       "      <th></th>\n",
       "      <th></th>\n",
       "      <th></th>\n",
       "    </tr>\n",
       "  </thead>\n",
       "  <tbody>\n",
       "    <tr>\n",
       "      <th>1</th>\n",
       "      <td>4579.0</td>\n",
       "      <td>977.0</td>\n",
       "      <td>590.0</td>\n",
       "      <td>902.0</td>\n",
       "      <td>1331.0</td>\n",
       "      <td>535.0</td>\n",
       "    </tr>\n",
       "    <tr>\n",
       "      <th>2</th>\n",
       "      <td>3197.0</td>\n",
       "      <td>545.0</td>\n",
       "      <td>333.0</td>\n",
       "      <td>445.0</td>\n",
       "      <td>604.0</td>\n",
       "      <td>NaN</td>\n",
       "    </tr>\n",
       "    <tr>\n",
       "      <th>3</th>\n",
       "      <td>2919.0</td>\n",
       "      <td>551.0</td>\n",
       "      <td>330.0</td>\n",
       "      <td>332.0</td>\n",
       "      <td>NaN</td>\n",
       "      <td>NaN</td>\n",
       "    </tr>\n",
       "    <tr>\n",
       "      <th>4</th>\n",
       "      <td>2989.0</td>\n",
       "      <td>654.0</td>\n",
       "      <td>283.0</td>\n",
       "      <td>NaN</td>\n",
       "      <td>NaN</td>\n",
       "      <td>NaN</td>\n",
       "    </tr>\n",
       "    <tr>\n",
       "      <th>5</th>\n",
       "      <td>3449.0</td>\n",
       "      <td>618.0</td>\n",
       "      <td>NaN</td>\n",
       "      <td>NaN</td>\n",
       "      <td>NaN</td>\n",
       "      <td>NaN</td>\n",
       "    </tr>\n",
       "    <tr>\n",
       "      <th>6</th>\n",
       "      <td>3295.0</td>\n",
       "      <td>NaN</td>\n",
       "      <td>NaN</td>\n",
       "      <td>NaN</td>\n",
       "      <td>NaN</td>\n",
       "      <td>NaN</td>\n",
       "    </tr>\n",
       "  </tbody>\n",
       "</table>\n",
       "</div>"
      ],
      "text/plain": [
       "CohortGroup   2019-01  2019-02  2019-03  2019-04  2019-05  2019-06\n",
       "CohortPeriod                                                      \n",
       "1              4579.0    977.0    590.0    902.0   1331.0    535.0\n",
       "2              3197.0    545.0    333.0    445.0    604.0      NaN\n",
       "3              2919.0    551.0    330.0    332.0      NaN      NaN\n",
       "4              2989.0    654.0    283.0      NaN      NaN      NaN\n",
       "5              3449.0    618.0      NaN      NaN      NaN      NaN\n",
       "6              3295.0      NaN      NaN      NaN      NaN      NaN"
      ]
     },
     "execution_count": 31,
     "metadata": {},
     "output_type": "execute_result"
    }
   ],
   "source": [
    "cohorts['TotalCustomers'].unstack(0).head(20)"
   ]
  },
  {
   "cell_type": "markdown",
   "metadata": {},
   "source": [
    "####  What to Notes.....\n",
    "1. The first row represents the new customers we have been gaining for the six months in this year. \n",
    "we have been earning  an avarage of $867$ customers each month. \n",
    "2. Each column shows how the customers are retained over specific period of time.\n",
    "\n",
    "    - like we can see on January we served $4579$ customers served $3197.0$ customers in Feb, a drop of $30\\%$\n",
    "    - on May we gained $1331$ new customers but managed to serve $604$ as at $24^{th} June$\n",
    "    \n",
    "*Note the January and Feb cohort.. They are the only cohorts that have an incease. They have the great potential of puchase,the sales team should focus on them*"
   ]
  },
  {
   "cell_type": "code",
   "execution_count": 73,
   "metadata": {
    "scrolled": true
   },
   "outputs": [
    {
     "data": {
      "text/plain": [
       "0.3018126228434156"
      ]
     },
     "execution_count": 73,
     "metadata": {},
     "output_type": "execute_result"
    }
   ],
   "source": [
    "1382.0/4579.0"
   ]
  },
  {
   "cell_type": "markdown",
   "metadata": {},
   "source": [
    "#### Computing and Visualizing the Rate of retaining customers."
   ]
  },
  {
   "cell_type": "code",
   "execution_count": 33,
   "metadata": {
    "scrolled": true
   },
   "outputs": [
    {
     "data": {
      "text/html": [
       "<div>\n",
       "<style scoped>\n",
       "    .dataframe tbody tr th:only-of-type {\n",
       "        vertical-align: middle;\n",
       "    }\n",
       "\n",
       "    .dataframe tbody tr th {\n",
       "        vertical-align: top;\n",
       "    }\n",
       "\n",
       "    .dataframe thead th {\n",
       "        text-align: right;\n",
       "    }\n",
       "</style>\n",
       "<table border=\"1\" class=\"dataframe\">\n",
       "  <thead>\n",
       "    <tr style=\"text-align: right;\">\n",
       "      <th>CohortGroup</th>\n",
       "      <th>2019-01</th>\n",
       "      <th>2019-02</th>\n",
       "      <th>2019-03</th>\n",
       "      <th>2019-04</th>\n",
       "      <th>2019-05</th>\n",
       "      <th>2019-06</th>\n",
       "    </tr>\n",
       "    <tr>\n",
       "      <th>CohortPeriod</th>\n",
       "      <th></th>\n",
       "      <th></th>\n",
       "      <th></th>\n",
       "      <th></th>\n",
       "      <th></th>\n",
       "      <th></th>\n",
       "    </tr>\n",
       "  </thead>\n",
       "  <tbody>\n",
       "    <tr>\n",
       "      <th>1</th>\n",
       "      <td>1.000000</td>\n",
       "      <td>1.000000</td>\n",
       "      <td>1.000000</td>\n",
       "      <td>1.000000</td>\n",
       "      <td>1.000000</td>\n",
       "      <td>1.0</td>\n",
       "    </tr>\n",
       "    <tr>\n",
       "      <th>2</th>\n",
       "      <td>0.698187</td>\n",
       "      <td>0.557830</td>\n",
       "      <td>0.564407</td>\n",
       "      <td>0.493348</td>\n",
       "      <td>0.453794</td>\n",
       "      <td>NaN</td>\n",
       "    </tr>\n",
       "    <tr>\n",
       "      <th>3</th>\n",
       "      <td>0.637475</td>\n",
       "      <td>0.563971</td>\n",
       "      <td>0.559322</td>\n",
       "      <td>0.368071</td>\n",
       "      <td>NaN</td>\n",
       "      <td>NaN</td>\n",
       "    </tr>\n",
       "    <tr>\n",
       "      <th>4</th>\n",
       "      <td>0.652763</td>\n",
       "      <td>0.669396</td>\n",
       "      <td>0.479661</td>\n",
       "      <td>NaN</td>\n",
       "      <td>NaN</td>\n",
       "      <td>NaN</td>\n",
       "    </tr>\n",
       "    <tr>\n",
       "      <th>5</th>\n",
       "      <td>0.753221</td>\n",
       "      <td>0.632549</td>\n",
       "      <td>NaN</td>\n",
       "      <td>NaN</td>\n",
       "      <td>NaN</td>\n",
       "      <td>NaN</td>\n",
       "    </tr>\n",
       "    <tr>\n",
       "      <th>6</th>\n",
       "      <td>0.719589</td>\n",
       "      <td>NaN</td>\n",
       "      <td>NaN</td>\n",
       "      <td>NaN</td>\n",
       "      <td>NaN</td>\n",
       "      <td>NaN</td>\n",
       "    </tr>\n",
       "  </tbody>\n",
       "</table>\n",
       "</div>"
      ],
      "text/plain": [
       "CohortGroup    2019-01   2019-02   2019-03   2019-04   2019-05  2019-06\n",
       "CohortPeriod                                                           \n",
       "1             1.000000  1.000000  1.000000  1.000000  1.000000      1.0\n",
       "2             0.698187  0.557830  0.564407  0.493348  0.453794      NaN\n",
       "3             0.637475  0.563971  0.559322  0.368071       NaN      NaN\n",
       "4             0.652763  0.669396  0.479661       NaN       NaN      NaN\n",
       "5             0.753221  0.632549       NaN       NaN       NaN      NaN\n",
       "6             0.719589       NaN       NaN       NaN       NaN      NaN"
      ]
     },
     "execution_count": 33,
     "metadata": {},
     "output_type": "execute_result"
    }
   ],
   "source": [
    "customer_retension = cohorts['TotalCustomers'].unstack(0).divide(cohort_group_size, axis=1)\n",
    "customer_retension.head(10)"
   ]
  },
  {
   "cell_type": "code",
   "execution_count": 35,
   "metadata": {
    "scrolled": false
   },
   "outputs": [
    {
     "data": {
      "text/plain": [
       "<matplotlib.axes._subplots.AxesSubplot at 0x1654a251b00>"
      ]
     },
     "execution_count": 35,
     "metadata": {},
     "output_type": "execute_result"
    },
    {
     "data": {
      "image/png": "[encoded data removed]",
      "text/plain": [
       "<Figure size 864x576 with 2 Axes>"
      ]
     },
     "metadata": {},
     "output_type": "display_data"
    }
   ],
   "source": [
    "sns.set(style='white')\n",
    "\n",
    "plt.figure(figsize=(12, 8))\n",
    "plt.title('Cohorts: Customers Retention')\n",
    "sns.heatmap(customer_retension.T, mask=customer_retension.T.isnull(), annot=True, fmt='.0%')"
   ]
  },
  {
   "cell_type": "markdown",
   "metadata": {},
   "source": [
    "###### Amazing Observasions here...\n",
    "1. The first cohort, January customers, is the strongest. **What is making them to stick around?**\n",
    "2. Fewer customers tend to purchase as time goes by. *Apart from Jan and Feb Cohorts* \n",
    "3. The newer the customers are, the smaller the retenstion rate. Most New customer do not stay. *Like,  only 37% of customers we gained on April $(902)$ have bought from us* Why?\n",
    "\n",
    "Sample out customers from April cohort who have not bought from us again and know why... \n"
   ]
  },
  {
   "cell_type": "markdown",
   "metadata": {},
   "source": [
    "#### Cohorts Purchase behaviour.\n",
    "Lets See if the retentions are corelating with the cylinders sold.\n",
    "\n",
    "If we are loosing customers with big purchases. "
   ]
  },
  {
   "cell_type": "code",
   "execution_count": 43,
   "metadata": {},
   "outputs": [
    {
     "data": {
      "text/plain": [
       "CohortGroup\n",
       "2019-01    239798\n",
       "2019-02     14640\n",
       "2019-03      5528\n",
       "2019-04      9477\n",
       "2019-05     14056\n",
       "Name: TotalSales, dtype: int64"
      ]
     },
     "execution_count": 43,
     "metadata": {},
     "output_type": "execute_result"
    }
   ],
   "source": [
    "cohort_total_quantity = cohorts['TotalSales'].groupby(level=0).first()\n",
    "cohort_total_quantity.head()"
   ]
  },
  {
   "cell_type": "code",
   "execution_count": 83,
   "metadata": {},
   "outputs": [
    {
     "data": {
      "text/html": [
       "<div>\n",
       "<style scoped>\n",
       "    .dataframe tbody tr th:only-of-type {\n",
       "        vertical-align: middle;\n",
       "    }\n",
       "\n",
       "    .dataframe tbody tr th {\n",
       "        vertical-align: top;\n",
       "    }\n",
       "\n",
       "    .dataframe thead th {\n",
       "        text-align: right;\n",
       "    }\n",
       "</style>\n",
       "<table border=\"1\" class=\"dataframe\">\n",
       "  <thead>\n",
       "    <tr style=\"text-align: right;\">\n",
       "      <th></th>\n",
       "      <th></th>\n",
       "      <th>TotalCustomers</th>\n",
       "      <th>TotalSales</th>\n",
       "    </tr>\n",
       "    <tr>\n",
       "      <th>CohortGroup</th>\n",
       "      <th>CohortPeriod</th>\n",
       "      <th></th>\n",
       "      <th></th>\n",
       "    </tr>\n",
       "  </thead>\n",
       "  <tbody>\n",
       "    <tr>\n",
       "      <th rowspan=\"6\" valign=\"top\">2019-01</th>\n",
       "      <th>1</th>\n",
       "      <td>4579</td>\n",
       "      <td>239798</td>\n",
       "    </tr>\n",
       "    <tr>\n",
       "      <th>2</th>\n",
       "      <td>3197</td>\n",
       "      <td>184485</td>\n",
       "    </tr>\n",
       "    <tr>\n",
       "      <th>3</th>\n",
       "      <td>2919</td>\n",
       "      <td>161726</td>\n",
       "    </tr>\n",
       "    <tr>\n",
       "      <th>4</th>\n",
       "      <td>2989</td>\n",
       "      <td>173131</td>\n",
       "    </tr>\n",
       "    <tr>\n",
       "      <th>5</th>\n",
       "      <td>3449</td>\n",
       "      <td>204565</td>\n",
       "    </tr>\n",
       "    <tr>\n",
       "      <th>6</th>\n",
       "      <td>3295</td>\n",
       "      <td>147827</td>\n",
       "    </tr>\n",
       "    <tr>\n",
       "      <th rowspan=\"5\" valign=\"top\">2019-02</th>\n",
       "      <th>1</th>\n",
       "      <td>977</td>\n",
       "      <td>14640</td>\n",
       "    </tr>\n",
       "    <tr>\n",
       "      <th>2</th>\n",
       "      <td>545</td>\n",
       "      <td>13112</td>\n",
       "    </tr>\n",
       "    <tr>\n",
       "      <th>3</th>\n",
       "      <td>551</td>\n",
       "      <td>16154</td>\n",
       "    </tr>\n",
       "    <tr>\n",
       "      <th>4</th>\n",
       "      <td>654</td>\n",
       "      <td>20088</td>\n",
       "    </tr>\n",
       "    <tr>\n",
       "      <th>5</th>\n",
       "      <td>618</td>\n",
       "      <td>16112</td>\n",
       "    </tr>\n",
       "    <tr>\n",
       "      <th rowspan=\"4\" valign=\"top\">2019-03</th>\n",
       "      <th>1</th>\n",
       "      <td>590</td>\n",
       "      <td>5528</td>\n",
       "    </tr>\n",
       "    <tr>\n",
       "      <th>2</th>\n",
       "      <td>333</td>\n",
       "      <td>5229</td>\n",
       "    </tr>\n",
       "    <tr>\n",
       "      <th>3</th>\n",
       "      <td>330</td>\n",
       "      <td>6046</td>\n",
       "    </tr>\n",
       "    <tr>\n",
       "      <th>4</th>\n",
       "      <td>283</td>\n",
       "      <td>4865</td>\n",
       "    </tr>\n",
       "    <tr>\n",
       "      <th rowspan=\"3\" valign=\"top\">2019-04</th>\n",
       "      <th>1</th>\n",
       "      <td>902</td>\n",
       "      <td>9477</td>\n",
       "    </tr>\n",
       "    <tr>\n",
       "      <th>2</th>\n",
       "      <td>445</td>\n",
       "      <td>7335</td>\n",
       "    </tr>\n",
       "    <tr>\n",
       "      <th>3</th>\n",
       "      <td>332</td>\n",
       "      <td>4473</td>\n",
       "    </tr>\n",
       "    <tr>\n",
       "      <th rowspan=\"2\" valign=\"top\">2019-05</th>\n",
       "      <th>1</th>\n",
       "      <td>1331</td>\n",
       "      <td>14056</td>\n",
       "    </tr>\n",
       "    <tr>\n",
       "      <th>2</th>\n",
       "      <td>604</td>\n",
       "      <td>9213</td>\n",
       "    </tr>\n",
       "    <tr>\n",
       "      <th>2019-06</th>\n",
       "      <th>1</th>\n",
       "      <td>535</td>\n",
       "      <td>8405</td>\n",
       "    </tr>\n",
       "  </tbody>\n",
       "</table>\n",
       "</div>"
      ],
      "text/plain": [
       "                          TotalCustomers  TotalSales\n",
       "CohortGroup CohortPeriod                            \n",
       "2019-01     1                       4579      239798\n",
       "            2                       3197      184485\n",
       "            3                       2919      161726\n",
       "            4                       2989      173131\n",
       "            5                       3449      204565\n",
       "            6                       3295      147827\n",
       "2019-02     1                        977       14640\n",
       "            2                        545       13112\n",
       "            3                        551       16154\n",
       "            4                        654       20088\n",
       "            5                        618       16112\n",
       "2019-03     1                        590        5528\n",
       "            2                        333        5229\n",
       "            3                        330        6046\n",
       "            4                        283        4865\n",
       "2019-04     1                        902        9477\n",
       "            2                        445        7335\n",
       "            3                        332        4473\n",
       "2019-05     1                       1331       14056\n",
       "            2                        604        9213\n",
       "2019-06     1                        535        8405"
      ]
     },
     "execution_count": 83,
     "metadata": {},
     "output_type": "execute_result"
    }
   ],
   "source": [
    "cohorts[['TotalCustomers','TotalSales']]"
   ]
  },
  {
   "cell_type": "markdown",
   "metadata": {},
   "source": [
    "*The newer customers are relatively buying fewer cylinders. More energy should be on retaiting customers.*\n",
    "\n",
    "**More Explanation on this...At excel**"
   ]
  },
  {
   "cell_type": "code",
   "execution_count": 45,
   "metadata": {},
   "outputs": [
    {
     "data": {
      "text/html": [
       "<div>\n",
       "<style scoped>\n",
       "    .dataframe tbody tr th:only-of-type {\n",
       "        vertical-align: middle;\n",
       "    }\n",
       "\n",
       "    .dataframe tbody tr th {\n",
       "        vertical-align: top;\n",
       "    }\n",
       "\n",
       "    .dataframe thead th {\n",
       "        text-align: right;\n",
       "    }\n",
       "</style>\n",
       "<table border=\"1\" class=\"dataframe\">\n",
       "  <thead>\n",
       "    <tr style=\"text-align: right;\">\n",
       "      <th>CohortGroup</th>\n",
       "      <th>2019-01</th>\n",
       "      <th>2019-02</th>\n",
       "      <th>2019-03</th>\n",
       "      <th>2019-04</th>\n",
       "      <th>2019-05</th>\n",
       "      <th>2019-06</th>\n",
       "    </tr>\n",
       "    <tr>\n",
       "      <th>CohortPeriod</th>\n",
       "      <th></th>\n",
       "      <th></th>\n",
       "      <th></th>\n",
       "      <th></th>\n",
       "      <th></th>\n",
       "      <th></th>\n",
       "    </tr>\n",
       "  </thead>\n",
       "  <tbody>\n",
       "    <tr>\n",
       "      <th>1</th>\n",
       "      <td>239798.0</td>\n",
       "      <td>14640.0</td>\n",
       "      <td>5528.0</td>\n",
       "      <td>9477.0</td>\n",
       "      <td>14056.0</td>\n",
       "      <td>8405.0</td>\n",
       "    </tr>\n",
       "    <tr>\n",
       "      <th>2</th>\n",
       "      <td>184485.0</td>\n",
       "      <td>13112.0</td>\n",
       "      <td>5229.0</td>\n",
       "      <td>7335.0</td>\n",
       "      <td>9213.0</td>\n",
       "      <td>NaN</td>\n",
       "    </tr>\n",
       "    <tr>\n",
       "      <th>3</th>\n",
       "      <td>161726.0</td>\n",
       "      <td>16154.0</td>\n",
       "      <td>6046.0</td>\n",
       "      <td>4473.0</td>\n",
       "      <td>NaN</td>\n",
       "      <td>NaN</td>\n",
       "    </tr>\n",
       "    <tr>\n",
       "      <th>4</th>\n",
       "      <td>173131.0</td>\n",
       "      <td>20088.0</td>\n",
       "      <td>4865.0</td>\n",
       "      <td>NaN</td>\n",
       "      <td>NaN</td>\n",
       "      <td>NaN</td>\n",
       "    </tr>\n",
       "    <tr>\n",
       "      <th>5</th>\n",
       "      <td>204565.0</td>\n",
       "      <td>16112.0</td>\n",
       "      <td>NaN</td>\n",
       "      <td>NaN</td>\n",
       "      <td>NaN</td>\n",
       "      <td>NaN</td>\n",
       "    </tr>\n",
       "    <tr>\n",
       "      <th>6</th>\n",
       "      <td>147827.0</td>\n",
       "      <td>NaN</td>\n",
       "      <td>NaN</td>\n",
       "      <td>NaN</td>\n",
       "      <td>NaN</td>\n",
       "      <td>NaN</td>\n",
       "    </tr>\n",
       "  </tbody>\n",
       "</table>\n",
       "</div>"
      ],
      "text/plain": [
       "CohortGroup    2019-01  2019-02  2019-03  2019-04  2019-05  2019-06\n",
       "CohortPeriod                                                       \n",
       "1             239798.0  14640.0   5528.0   9477.0  14056.0   8405.0\n",
       "2             184485.0  13112.0   5229.0   7335.0   9213.0      NaN\n",
       "3             161726.0  16154.0   6046.0   4473.0      NaN      NaN\n",
       "4             173131.0  20088.0   4865.0      NaN      NaN      NaN\n",
       "5             204565.0  16112.0      NaN      NaN      NaN      NaN\n",
       "6             147827.0      NaN      NaN      NaN      NaN      NaN"
      ]
     },
     "execution_count": 45,
     "metadata": {},
     "output_type": "execute_result"
    }
   ],
   "source": [
    "cohort_sales=cohorts.TotalSales.unstack(0)\n",
    "cohort_sales"
   ]
  },
  {
   "cell_type": "code",
   "execution_count": 60,
   "metadata": {},
   "outputs": [
    {
     "data": {
      "text/plain": [
       "<matplotlib.axes._subplots.AxesSubplot at 0x1654df5b978>"
      ]
     },
     "execution_count": 60,
     "metadata": {},
     "output_type": "execute_result"
    },
    {
     "data": {
      "image/png": "[encoded data removed]",
      "text/plain": [
       "<Figure size 864x576 with 2 Axes>"
      ]
     },
     "metadata": {},
     "output_type": "display_data"
    }
   ],
   "source": [
    "sns.set(style='white')\n",
    "\n",
    "plt.figure(figsize=(12, 8))\n",
    "plt.title('Cohorts: Customers Cylinders Purchase Behaviours')\n",
    "sns.heatmap(cohort_sales.T, mask=cohort_sales.T.isnull(), annot=True,fmt='')"
   ]
  },
  {
   "cell_type": "markdown",
   "metadata": {},
   "source": [
    "Since we have discovered that the customers in the first cohort. We wish to understand, apart from the month of the first purchase, what else do they have in common that makes them stick around and remain royal. "
   ]
  },
  {
   "cell_type": "markdown",
   "metadata": {},
   "source": [
    "How are they distributed per teritory?"
   ]
  },
  {
   "cell_type": "code",
   "execution_count": 85,
   "metadata": {},
   "outputs": [
    {
     "data": {
      "text/plain": [
       "Territory\n",
       "Coast               2\n",
       "Eastern           192\n",
       "Mt. Kenya         733\n",
       "Nairobi East       21\n",
       "Nairobi North    1517\n",
       "Nairobi South    1473\n",
       "Nyanza            295\n",
       "Rift Valley       253\n",
       "Western           339\n",
       "Name: CustomerName, dtype: int64"
      ]
     },
     "execution_count": 85,
     "metadata": {},
     "output_type": "execute_result"
    }
   ],
   "source": [
    "Jan_cohort=df1[df1['CohortGroup']==\"2019-01\"]\n",
    "Jan_cohort.groupby('Territory')['CustomerName'].nunique()"
   ]
  },
  {
   "cell_type": "markdown",
   "metadata": {},
   "source": [
    "This table shows the total number of distinct customers "
   ]
  },
  {
   "cell_type": "code",
   "execution_count": 109,
   "metadata": {},
   "outputs": [
    {
     "data": {
      "text/plain": [
       "Territory\n",
       "Coast               1\n",
       "Eastern           125\n",
       "Mt. Kenya         448\n",
       "Nairobi North    1196\n",
       "Nairobi South    1076\n",
       "Nyanza            191\n",
       "Rift Valley       161\n",
       "Western           235\n",
       "Name: CustomerName, dtype: int64"
      ]
     },
     "execution_count": 109,
     "metadata": {},
     "output_type": "execute_result"
    }
   ],
   "source": [
    "royal=Jan_cohort[Jan_cohort['PurchaseMonth']=='2019-06']\n",
    "royal.to_csv(\"Royal_jan.csv\")\n",
    "royal.groupby('Territory')['CustomerName'].nunique()"
   ]
  },
  {
   "cell_type": "code",
   "execution_count": 91,
   "metadata": {},
   "outputs": [
    {
     "data": {
      "text/plain": [
       "Territory\n",
       "Coast              44\n",
       "Eastern           701\n",
       "Mt. Kenya        1114\n",
       "Nairobi East       21\n",
       "Nairobi North    2759\n",
       "Nairobi South    2490\n",
       "Nyanza            511\n",
       "Rift Valley       726\n",
       "Western           830\n",
       "Name: CustomerName, dtype: int64"
      ]
     },
     "execution_count": 91,
     "metadata": {},
     "output_type": "execute_result"
    }
   ],
   "source": [
    "df1.groupby('Territory')['CustomerName'].nunique()"
   ]
  },
  {
   "cell_type": "code",
   "execution_count": 28,
   "metadata": {
    "scrolled": false
   },
   "outputs": [
    {
     "data": {
      "text/plain": [
       "Territory\n",
       "Coast              1\n",
       "Eastern           85\n",
       "Mt. Kenya        106\n",
       "Nairobi North    224\n",
       "Nairobi South    322\n",
       "Nyanza            31\n",
       "Rift Valley       94\n",
       "Western          130\n",
       "Name: CustomerName, dtype: int64"
      ]
     },
     "execution_count": 28,
     "metadata": {},
     "output_type": "execute_result"
    }
   ],
   "source": [
    "feb_cust=df1[df1['CohortGroup']==\"2019-02\"]\n",
    "feb_cust.groupby('Territory')['CustomerName'].nunique()"
   ]
  },
  {
   "cell_type": "code",
   "execution_count": 29,
   "metadata": {},
   "outputs": [],
   "source": [
    "feb_cust.to_csv(\"Feb_customers.csv\")"
   ]
  },
  {
   "cell_type": "code",
   "execution_count": 97,
   "metadata": {},
   "outputs": [],
   "source": [
    "April_cohort=df1[df1['CohortGroup']==\"2019-04\"]\n",
    "April_cohort.to_csv(\"April_customers.csv\")"
   ]
  },
  {
   "cell_type": "code",
   "execution_count": 107,
   "metadata": {},
   "outputs": [
    {
     "data": {
      "text/plain": [
       "<matplotlib.axes._subplots.AxesSubplot at 0x165594ac5c0>"
      ]
     },
     "execution_count": 107,
     "metadata": {},
     "output_type": "execute_result"
    },
    {
     "data": {
      "image/png": "[encoded data removed]",
      "text/plain": [
       "<Figure size 576x432 with 1 Axes>"
      ]
     },
     "metadata": {},
     "output_type": "display_data"
    }
   ],
   "source": [
    "cohort_group_size.plot(kind='bar',figsize=(8,6),title='Cohort size')"
   ]
  },
  {
   "cell_type": "markdown",
   "metadata": {},
   "source": [
    "   *Muturi*"
   ]
  },
  {
   "cell_type": "code",
   "execution_count": 12,
   "metadata": {},
   "outputs": [],
   "source": [
    "df1.to_csv('Customers0.csv')"
   ]
  },
  {
   "cell_type": "code",
   "execution_count": null,
   "metadata": {},
   "outputs": [],
   "source": [
    "try:\n",
    "    n=int(input(\"Enter a nonzero integer : \"))\n",
    "except ValueError:\n",
    "    print(\"You did not enter a nonzero integer. Try again \")\n",
    "except KeyError:\n",
    "    print(\"You entered zero. Try again\")\n",
    "else:0\n",
    "        reciprocal=int(float(1/n))\n",
    "        reciprocal=0\n",
    "print(\"The reciprocal of {0} is{1: .3f}\".format(n, reciprocal))"
   ]
  },
  {
   "cell_type": "code",
   "execution_count": null,
   "metadata": {},
   "outputs": [],
   "source": []
  }
 ],
 "metadata": {
  "kernelspec": {
   "display_name": "Python 3",
   "language": "python",
   "name": "python3"
  },
  "language_info": {
   "codemirror_mode": {
    "name": "ipython",
    "version": 3
   },
   "file_extension": ".py",
   "mimetype": "text/x-python",
   "name": "python",
   "nbconvert_exporter": "python",
   "pygments_lexer": "ipython3",
   "version": "3.7.3"
  }
 },
 "nbformat": 4,
 "nbformat_minor": 2
}
